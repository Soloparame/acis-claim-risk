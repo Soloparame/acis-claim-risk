{
 "cells": [
  {
   "cell_type": "code",
   "execution_count": 1,
   "id": "70afe332",
   "metadata": {},
   "outputs": [
    {
     "name": "stdout",
     "output_type": "stream",
     "text": [
      "Requirement already satisfied: scikit-learn in c:\\users\\rebika\\desktop\\acis-claim-risk-analysis\\venv\\lib\\site-packages (1.7.0)\n",
      "Requirement already satisfied: numpy>=1.22.0 in c:\\users\\rebika\\desktop\\acis-claim-risk-analysis\\venv\\lib\\site-packages (from scikit-learn) (2.3.0)\n",
      "Requirement already satisfied: scipy>=1.8.0 in c:\\users\\rebika\\desktop\\acis-claim-risk-analysis\\venv\\lib\\site-packages (from scikit-learn) (1.15.3)\n",
      "Requirement already satisfied: joblib>=1.2.0 in c:\\users\\rebika\\desktop\\acis-claim-risk-analysis\\venv\\lib\\site-packages (from scikit-learn) (1.5.1)\n",
      "Requirement already satisfied: threadpoolctl>=3.1.0 in c:\\users\\rebika\\desktop\\acis-claim-risk-analysis\\venv\\lib\\site-packages (from scikit-learn) (3.6.0)\n",
      "Note: you may need to restart the kernel to use updated packages.\n"
     ]
    },
    {
     "name": "stderr",
     "output_type": "stream",
     "text": [
      "\n",
      "[notice] A new release of pip is available: 24.0 -> 25.1.1\n",
      "[notice] To update, run: python.exe -m pip install --upgrade pip\n",
      "C:\\Users\\rebika\\AppData\\Local\\Temp\\ipykernel_2696\\470017736.py:33: FutureWarning: DataFrame.fillna with 'method' is deprecated and will raise in a future version. Use obj.ffill() or obj.bfill() instead.\n",
      "  df.fillna(method='ffill', inplace=True)\n",
      "C:\\Users\\rebika\\AppData\\Local\\Temp\\ipykernel_2696\\470017736.py:33: FutureWarning: DataFrame.fillna with 'method' is deprecated and will raise in a future version. Use obj.ffill() or obj.bfill() instead.\n",
      "  df.fillna(method='ffill', inplace=True)\n"
     ]
    }
   ],
   "source": [
    "%pip install scikit-learn\n",
    "import pandas as pd\n",
    "from sklearn.model_selection import train_test_split\n",
    "\n",
    "# Load and inspect with delimiter handling\n",
    "try:\n",
    "    df = pd.read_csv(\"../data/MachineLearningRating_v3.txt\", delimiter='\\t')\n",
    "except Exception as e:\n",
    "    print(\"Error loading file:\", e)\n",
    "    try:\n",
    "        df = pd.read_csv(\"../data/MachineLearningRating_v3.txt\", delimiter=',')\n",
    "    except Exception as e2:\n",
    "        print(\"Fallback load also failed:\", e2)\n",
    "        df = None\n",
    "\n",
    "if df is not None:\n",
    "    # Split the single column into multiple columns if needed\n",
    "    if df.shape[1] == 1:\n",
    "        df = df[df.columns[0]].str.split('|', expand=True)\n",
    "        header = [\n",
    "            'UnderwrittenCoverID', 'PolicyID', 'TransactionMonth', 'IsVATRegistered', 'Citizenship', 'LegalType', 'Title', 'Language', 'Bank', 'AccountType', 'MaritalStatus', 'Gender', 'Country', 'Province', 'PostalCode', 'MainCrestaZone', 'SubCrestaZone', 'ItemType', 'mmcode', 'VehicleType', 'RegistrationYear', 'make', 'Model', 'Cylinders', 'cubiccapacity', 'kilowatts', 'bodytype', 'NumberOfDoors', 'VehicleIntroDate', 'CustomValueEstimate', 'AlarmImmobiliser', 'TrackingDevice', 'CapitalOutstanding', 'NewVehicle', 'WrittenOff', 'Rebuilt', 'Converted', 'CrossBorder', 'NumberOfVehiclesInFleet', 'SumInsured', 'TermFrequency', 'CalculatedPremiumPerTerm', 'ExcessSelected', 'CoverCategory', 'CoverType', 'CoverGroup', 'Section', 'Product', 'StatutoryClass', 'StatutoryRiskType', 'TotalPremium', 'TotalClaims'\n",
    "        ]\n",
    "        df.columns = header\n",
    "        if df.iloc[0].equals(pd.Series(header)):\n",
    "            df = df.iloc[1:].reset_index(drop=True)\n",
    "    # Convert numeric columns\n",
    "    for col in ['TotalClaims', 'NumClaims']:\n",
    "        if col in df.columns:\n",
    "            df[col] = pd.to_numeric(df[col], errors='coerce')\n",
    "    # Filter for severity prediction (only with claims)\n",
    "    severity_df = df[df['TotalClaims'] > 0].copy()\n",
    "    # Fill or drop missing values\n",
    "    df.fillna(method='ffill', inplace=True)\n",
    "    # Feature engineering\n",
    "    df['ClaimOccurred'] = (df['TotalClaims'] > 0).astype(int)\n",
    "    if 'NumClaims' in df.columns:\n",
    "        df['ClaimSeverity'] = df['TotalClaims'] / df['NumClaims'].replace(0, 1)\n",
    "    else:\n",
    "        df['ClaimSeverity'] = float('nan')\n",
    "    # Encode only selected categorical variables to avoid memory issues\n",
    "    categorical_cols = [\n",
    "        'IsVATRegistered', 'Citizenship', 'LegalType', 'Title', 'Language', 'Bank', 'AccountType',\n",
    "        'MaritalStatus', 'Gender', 'Country', 'Province', 'PostalCode', 'MainCrestaZone', 'SubCrestaZone',\n",
    "        'ItemType', 'VehicleType', 'RegistrationYear', 'make', 'Model', 'bodytype', 'TermFrequency',\n",
    "        'CoverCategory', 'CoverType', 'CoverGroup', 'Section', 'Product', 'StatutoryClass', 'StatutoryRiskType'\n",
    "    ]\n",
    "    # Only keep columns that exist in df\n",
    "    categorical_cols = [col for col in categorical_cols if col in df.columns]\n",
    "    df = pd.get_dummies(df, columns=categorical_cols, drop_first=True)\n",
    "    # Define features and target\n",
    "    X_sev = severity_df.drop(columns=[\"TotalClaims\"])\n",
    "    y_sev = severity_df[\"TotalClaims\"]\n",
    "    X_clf = df.drop(columns=[\"TotalClaims\"])\n",
    "    y_clf = df[\"ClaimOccurred\"]\n",
    "    # Split\n",
    "    X_train_sev, X_test_sev, y_train_sev, y_test_sev = train_test_split(X_sev, y_sev, test_size=0.2, random_state=42)\n",
    "    X_train_clf, X_test_clf, y_train_clf, y_test_clf = train_test_split(X_clf, y_clf, test_size=0.2, random_state=42)\n",
    "else:\n",
    "    print(\"DataFrame could not be loaded.\")"
   ]
  },
  {
   "cell_type": "code",
   "execution_count": 4,
   "id": "9108f52d",
   "metadata": {},
   "outputs": [
    {
     "name": "stdout",
     "output_type": "stream",
     "text": [
      "^C\n",
      "Note: you may need to restart the kernel to use updated packages.\n",
      "Note: you may need to restart the kernel to use updated packages.\n"
     ]
    },
    {
     "ename": "ModuleNotFoundError",
     "evalue": "No module named 'xgboost'",
     "output_type": "error",
     "traceback": [
      "\u001b[31m---------------------------------------------------------------------------\u001b[39m",
      "\u001b[31mModuleNotFoundError\u001b[39m                       Traceback (most recent call last)",
      "\u001b[36mCell\u001b[39m\u001b[36m \u001b[39m\u001b[32mIn[4]\u001b[39m\u001b[32m, line 4\u001b[39m\n\u001b[32m      2\u001b[39m \u001b[38;5;28;01mfrom\u001b[39;00m\u001b[38;5;250m \u001b[39m\u001b[34;01msklearn\u001b[39;00m\u001b[34;01m.\u001b[39;00m\u001b[34;01mlinear_model\u001b[39;00m\u001b[38;5;250m \u001b[39m\u001b[38;5;28;01mimport\u001b[39;00m LinearRegression\n\u001b[32m      3\u001b[39m \u001b[38;5;28;01mfrom\u001b[39;00m\u001b[38;5;250m \u001b[39m\u001b[34;01msklearn\u001b[39;00m\u001b[34;01m.\u001b[39;00m\u001b[34;01mensemble\u001b[39;00m\u001b[38;5;250m \u001b[39m\u001b[38;5;28;01mimport\u001b[39;00m RandomForestRegressor\n\u001b[32m----> \u001b[39m\u001b[32m4\u001b[39m \u001b[38;5;28;01mfrom\u001b[39;00m\u001b[38;5;250m \u001b[39m\u001b[34;01mxgboost\u001b[39;00m\u001b[38;5;250m \u001b[39m\u001b[38;5;28;01mimport\u001b[39;00m XGBRegressor \n\u001b[32m      5\u001b[39m \u001b[38;5;28;01mfrom\u001b[39;00m\u001b[38;5;250m \u001b[39m\u001b[34;01msklearn\u001b[39;00m\u001b[34;01m.\u001b[39;00m\u001b[34;01mmetrics\u001b[39;00m\u001b[38;5;250m \u001b[39m\u001b[38;5;28;01mimport\u001b[39;00m mean_squared_error, r2_score\n\u001b[32m      7\u001b[39m models = {\n\u001b[32m      8\u001b[39m     \u001b[33m\"\u001b[39m\u001b[33mLinear Regression\u001b[39m\u001b[33m\"\u001b[39m: LinearRegression(),\n\u001b[32m      9\u001b[39m     \u001b[33m\"\u001b[39m\u001b[33mRandom Forest\u001b[39m\u001b[33m\"\u001b[39m: RandomForestRegressor(random_state=\u001b[32m42\u001b[39m),\n\u001b[32m     10\u001b[39m     \u001b[33m\"\u001b[39m\u001b[33mXGBoost\u001b[39m\u001b[33m\"\u001b[39m: XGBRegressor(random_state=\u001b[32m42\u001b[39m)\n\u001b[32m     11\u001b[39m }\n",
      "\u001b[31mModuleNotFoundError\u001b[39m: No module named 'xgboost'"
     ]
    }
   ],
   "source": [
    "%pip install xgboost\n",
    "from sklearn.linear_model import LinearRegression\n",
    "from sklearn.ensemble import RandomForestRegressor\n",
    "from xgboost import XGBRegressor \n",
    "from sklearn.metrics import mean_squared_error, r2_score\n",
    "\n",
    "models = {\n",
    "    \"Linear Regression\": LinearRegression(),\n",
    "    \"Random Forest\": RandomForestRegressor(random_state=42),\n",
    "    \"XGBoost\": XGBRegressor(random_state=42)\n",
    "}\n",
    "\n",
    "for name, model in models.items():\n",
    "    model.fit(X_train_sev, y_train_sev)\n",
    "    preds = model.predict(X_test_sev)\n",
    "    print(f\"{name} RMSE: {mean_squared_error(y_test_sev, preds, squared=False):.2f}\")\n",
    "    print(f\"{name} R²: {r2_score(y_test_sev, preds):.2f}\")\n"
   ]
  },
  {
   "cell_type": "code",
   "execution_count": null,
   "id": "d96d462d",
   "metadata": {},
   "outputs": [],
   "source": [
    "%pip install xgboost\n",
    "from sklearn.ensemble import RandomForestClassifier\n",
    "from xgboost import XGBClassifier # type: ignore\n",
    "from sklearn.metrics import classification_report, roc_auc_score\n",
    "\n",
    "clf_models = {\n",
    "    \"Random Forest Classifier\": RandomForestClassifier(random_state=42),\n",
    "    \"XGBoost Classifier\": XGBClassifier(random_state=42)\n",
    "}\n",
    "\n",
    "for name, model in clf_models.items():\n",
    "    model.fit(X_train_clf, y_train_clf)\n",
    "    preds = model.predict(X_test_clf)\n",
    "    print(f\"{name} AUC: {roc_auc_score(y_test_clf, preds):.2f}\")\n",
    "    print(classification_report(y_test_clf, preds))\n"
   ]
  },
  {
   "cell_type": "code",
   "execution_count": null,
   "id": "dc32d2b2",
   "metadata": {},
   "outputs": [],
   "source": [
    "%pip install shap\n",
    "import shap\n",
    "\n",
    "# Use SHAP for best performing regression model\n",
    "best_model = XGBRegressor().fit(X_train_sev, y_train_sev)\n",
    "explainer = shap.Explainer(best_model)\n",
    "shap_values = explainer(X_test_sev)\n",
    "\n",
    "shap.summary_plot(shap_values, X_test_sev, plot_type=\"bar\")\n"
   ]
  }
 ],
 "metadata": {
  "kernelspec": {
   "display_name": "venv",
   "language": "python",
   "name": "python3"
  },
  "language_info": {
   "codemirror_mode": {
    "name": "ipython",
    "version": 3
   },
   "file_extension": ".py",
   "mimetype": "text/x-python",
   "name": "python",
   "nbconvert_exporter": "python",
   "pygments_lexer": "ipython3",
   "version": "3.12.3"
  }
 },
 "nbformat": 4,
 "nbformat_minor": 5
}
