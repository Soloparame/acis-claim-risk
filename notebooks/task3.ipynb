{
 "cells": [
  {
   "cell_type": "code",
   "execution_count": 5,
   "id": "a3607ab9",
   "metadata": {},
   "outputs": [],
   "source": [
    "import pandas as pd\n",
    "\n",
    "# Example load with delimiter specified and error handling\n",
    "try:\n",
    "    df = pd.read_csv(\"../data/MachineLearningRating_v3.txt\", delimiter='\\t')\n",
    "except Exception as e:\n",
    "    print(\"Error loading file:\", e)\n",
    "    try:\n",
    "        df = pd.read_csv(\"../data/MachineLearningRating_v3.txt\", delimiter=',')\n",
    "    except Exception as e2:\n",
    "        print(\"Fallback load also failed:\", e2)\n",
    "        df = None\n",
    "\n",
    "if df is not None:\n",
    "    # Split the single column into multiple columns\n",
    "    df = df[df.columns[0]].str.split('|', expand=True)\n",
    "    # Set column names from the header row\n",
    "    header = [\n",
    "        'UnderwrittenCoverID', 'PolicyID', 'TransactionMonth', 'IsVATRegistered', 'Citizenship', 'LegalType', 'Title', 'Language', 'Bank', 'AccountType', 'MaritalStatus', 'Gender', 'Country', 'Province', 'PostalCode', 'MainCrestaZone', 'SubCrestaZone', 'ItemType', 'mmcode', 'VehicleType', 'RegistrationYear', 'make', 'Model', 'Cylinders', 'cubiccapacity', 'kilowatts', 'bodytype', 'NumberOfDoors', 'VehicleIntroDate', 'CustomValueEstimate', 'AlarmImmobiliser', 'TrackingDevice', 'CapitalOutstanding', 'NewVehicle', 'WrittenOff', 'Rebuilt', 'Converted', 'CrossBorder', 'NumberOfVehiclesInFleet', 'SumInsured', 'TermFrequency', 'CalculatedPremiumPerTerm', 'ExcessSelected', 'CoverCategory', 'CoverType', 'CoverGroup', 'Section', 'Product', 'StatutoryClass', 'StatutoryRiskType', 'TotalPremium', 'TotalClaims'\n",
    "    ]\n",
    "    df.columns = header\n",
    "    # Remove header row if present in data\n",
    "    if df.iloc[0].equals(pd.Series(header)):\n",
    "        df = df.iloc[1:].reset_index(drop=True)\n",
    "    # Convert numeric columns\n",
    "    for col in ['TotalClaims', 'TotalPremium']:\n",
    "        if col in df.columns:\n",
    "            df[col] = pd.to_numeric(df[col], errors='coerce')\n",
    "    # Preprocessing\n",
    "    if 'TotalClaims' in df.columns and 'TotalPremium' in df.columns:\n",
    "        df['ClaimFrequency'] = df['TotalClaims'] > 0\n",
    "        # If TotalClaimAmount exists, use it; otherwise, set ClaimSeverity to NaN\n",
    "        if 'TotalClaimAmount' in df.columns:\n",
    "            df['TotalClaimAmount'] = pd.to_numeric(df['TotalClaimAmount'], errors='coerce')\n",
    "            df['ClaimSeverity'] = df['TotalClaimAmount'] / df['TotalClaims']\n",
    "            df['Margin'] = df['TotalPremium'] - df['TotalClaimAmount']\n",
    "        else:\n",
    "            df['ClaimSeverity'] = float('nan')\n",
    "            df['Margin'] = float('nan')\n",
    "    else:\n",
    "        print(\"Required columns not found after splitting.\")"
   ]
  },
  {
   "cell_type": "code",
   "execution_count": 6,
   "id": "003e8297",
   "metadata": {},
   "outputs": [],
   "source": [
    "# Example: postal code comparison\n",
    "group_a = df[df['PostalCode'] == '12345']\n",
    "group_b = df[df['PostalCode'] == '54321']"
   ]
  },
  {
   "cell_type": "code",
   "execution_count": 8,
   "id": "f1a45c76",
   "metadata": {},
   "outputs": [
    {
     "name": "stderr",
     "output_type": "stream",
     "text": [
      "c:\\Users\\rebika\\Desktop\\acis-claim-risk-analysis\\venv\\Lib\\site-packages\\scipy\\_lib\\deprecation.py:234: SmallSampleWarning: One or more sample arguments is too small; all returned values will be NaN. See documentation for sample size requirements.\n",
      "  return f(*args, **kwargs)\n"
     ]
    },
    {
     "data": {
      "text/plain": [
       "TtestResult(statistic=np.float64(nan), pvalue=np.float64(nan), df=np.float64(nan))"
      ]
     },
     "execution_count": 8,
     "metadata": {},
     "output_type": "execute_result"
    }
   ],
   "source": [
    "from scipy.stats import ttest_ind\n",
    "\n",
    "# Compare TotalPremium between the two postal code groups\n",
    "ttest_ind(group_a['TotalPremium'], group_b['TotalPremium'])"
   ]
  },
  {
   "cell_type": "code",
   "execution_count": 9,
   "id": "3b0f508f",
   "metadata": {},
   "outputs": [],
   "source": [
    "import scipy.stats as stats\n",
    "\n",
    "# Kruskal-Wallis (non-parametric ANOVA)\n",
    "groups = [df[df['Province'] == p]['ClaimFrequency'] for p in df['Province'].unique()]\n",
    "stat, p_value = stats.kruskal(*groups)\n"
   ]
  },
  {
   "cell_type": "code",
   "execution_count": 10,
   "id": "944ed667",
   "metadata": {},
   "outputs": [],
   "source": [
    "stat, p_value = ttest_ind(group_a['Margin'], group_b['Margin'])\n"
   ]
  },
  {
   "cell_type": "code",
   "execution_count": 11,
   "id": "207cd522",
   "metadata": {},
   "outputs": [],
   "source": [
    "# Chi-squared\n",
    "contingency_table = pd.crosstab(df['Gender'], df['ClaimFrequency'])\n",
    "chi2, p, _, _ = stats.chi2_contingency(contingency_table)\n"
   ]
  }
 ],
 "metadata": {
  "kernelspec": {
   "display_name": "venv",
   "language": "python",
   "name": "python3"
  },
  "language_info": {
   "codemirror_mode": {
    "name": "ipython",
    "version": 3
   },
   "file_extension": ".py",
   "mimetype": "text/x-python",
   "name": "python",
   "nbconvert_exporter": "python",
   "pygments_lexer": "ipython3",
   "version": "3.12.3"
  }
 },
 "nbformat": 4,
 "nbformat_minor": 5
}
